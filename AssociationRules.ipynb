{
 "metadata": {
  "language_info": {
   "codemirror_mode": {
    "name": "ipython",
    "version": 3
   },
   "file_extension": ".py",
   "mimetype": "text/x-python",
   "name": "python",
   "nbconvert_exporter": "python",
   "pygments_lexer": "ipython3",
   "version": "3.9.0-final"
  },
  "orig_nbformat": 2,
  "kernelspec": {
   "name": "python3",
   "display_name": "Python 3.9.0 64-bit",
   "metadata": {
    "interpreter": {
     "hash": "f9a665eed82786d1db64405b5cfd0f8037f4571b806793cb1072a84e044fc7ff"
    }
   }
  }
 },
 "nbformat": 4,
 "nbformat_minor": 2,
 "cells": [
  {
   "cell_type": "code",
   "execution_count": 1,
   "metadata": {},
   "outputs": [],
   "source": [
    "import numpy as np\n",
    "import pandas as pd\n",
    "\n",
    "from mlxtend.frequent_patterns import apriori\n",
    "from mlxtend.frequent_patterns import association_rules"
   ]
  },
  {
   "source": [
    "### 1. Choose a transactional dataset which is suitable for association rule analysis problem from the UCI Machine Learning Repository or from any other dataset repositories.\n",
    "### 2. Download the selected dataset – you are required to provide a link to the download page for your selected dataset.\n",
    "The dataset can be found [here](https://archive.ics.uci.edu/ml/datasets/Online+Retail+II)"
   ],
   "cell_type": "markdown",
   "metadata": {}
  },
  {
   "cell_type": "code",
   "execution_count": 2,
   "metadata": {},
   "outputs": [],
   "source": [
    "\n",
    "df = pd.read_excel('dataset/online_retail_II.xlsx', engine='openpyxl')"
   ]
  },
  {
   "cell_type": "code",
   "execution_count": 4,
   "metadata": {},
   "outputs": [
    {
     "output_type": "execute_result",
     "data": {
      "text/plain": [
       "  Invoice StockCode                          Description  Quantity  \\\n",
       "0  489434     85048  15CM CHRISTMAS GLASS BALL 20 LIGHTS        12   \n",
       "1  489434    79323P                   PINK CHERRY LIGHTS        12   \n",
       "2  489434    79323W                  WHITE CHERRY LIGHTS        12   \n",
       "3  489434     22041         RECORD FRAME 7\" SINGLE SIZE         48   \n",
       "4  489434     21232       STRAWBERRY CERAMIC TRINKET BOX        24   \n",
       "\n",
       "          InvoiceDate  Price  Customer ID         Country  \n",
       "0 2009-12-01 07:45:00   6.95      13085.0  United Kingdom  \n",
       "1 2009-12-01 07:45:00   6.75      13085.0  United Kingdom  \n",
       "2 2009-12-01 07:45:00   6.75      13085.0  United Kingdom  \n",
       "3 2009-12-01 07:45:00   2.10      13085.0  United Kingdom  \n",
       "4 2009-12-01 07:45:00   1.25      13085.0  United Kingdom  "
      ],
      "text/html": "<div>\n<style scoped>\n    .dataframe tbody tr th:only-of-type {\n        vertical-align: middle;\n    }\n\n    .dataframe tbody tr th {\n        vertical-align: top;\n    }\n\n    .dataframe thead th {\n        text-align: right;\n    }\n</style>\n<table border=\"1\" class=\"dataframe\">\n  <thead>\n    <tr style=\"text-align: right;\">\n      <th></th>\n      <th>Invoice</th>\n      <th>StockCode</th>\n      <th>Description</th>\n      <th>Quantity</th>\n      <th>InvoiceDate</th>\n      <th>Price</th>\n      <th>Customer ID</th>\n      <th>Country</th>\n    </tr>\n  </thead>\n  <tbody>\n    <tr>\n      <th>0</th>\n      <td>489434</td>\n      <td>85048</td>\n      <td>15CM CHRISTMAS GLASS BALL 20 LIGHTS</td>\n      <td>12</td>\n      <td>2009-12-01 07:45:00</td>\n      <td>6.95</td>\n      <td>13085.0</td>\n      <td>United Kingdom</td>\n    </tr>\n    <tr>\n      <th>1</th>\n      <td>489434</td>\n      <td>79323P</td>\n      <td>PINK CHERRY LIGHTS</td>\n      <td>12</td>\n      <td>2009-12-01 07:45:00</td>\n      <td>6.75</td>\n      <td>13085.0</td>\n      <td>United Kingdom</td>\n    </tr>\n    <tr>\n      <th>2</th>\n      <td>489434</td>\n      <td>79323W</td>\n      <td>WHITE CHERRY LIGHTS</td>\n      <td>12</td>\n      <td>2009-12-01 07:45:00</td>\n      <td>6.75</td>\n      <td>13085.0</td>\n      <td>United Kingdom</td>\n    </tr>\n    <tr>\n      <th>3</th>\n      <td>489434</td>\n      <td>22041</td>\n      <td>RECORD FRAME 7\" SINGLE SIZE</td>\n      <td>48</td>\n      <td>2009-12-01 07:45:00</td>\n      <td>2.10</td>\n      <td>13085.0</td>\n      <td>United Kingdom</td>\n    </tr>\n    <tr>\n      <th>4</th>\n      <td>489434</td>\n      <td>21232</td>\n      <td>STRAWBERRY CERAMIC TRINKET BOX</td>\n      <td>24</td>\n      <td>2009-12-01 07:45:00</td>\n      <td>1.25</td>\n      <td>13085.0</td>\n      <td>United Kingdom</td>\n    </tr>\n  </tbody>\n</table>\n</div>"
     },
     "metadata": {},
     "execution_count": 4
    }
   ],
   "source": [
    "df.head()"
   ]
  },
  {
   "source": [
    "### 3. Describe the dataset and the data mining task.\n",
    "The dataset is a transnational data set that contains online retail transactions. The task is to build the rules to uncover associations between."
   ],
   "cell_type": "markdown",
   "metadata": {}
  },
  {
   "cell_type": "code",
   "execution_count": 5,
   "metadata": {},
   "outputs": [
    {
     "output_type": "stream",
     "name": "stdout",
     "text": [
      "The dataset containe recorders start form 2009-12-01 to 2010-12-09 and has 4632 unique items\n"
     ]
    }
   ],
   "source": [
    "print(f'The dataset containe recorders start form {pd.to_datetime(df.InvoiceDate.min()).date() } to {pd.to_datetime(df.InvoiceDate.max()).date() } and has {df.StockCode.nunique()} unique items')"
   ]
  },
  {
   "source": [
    "### 4. Display the number of instances.\n",
    "### 5. Display the number of attributes.\n"
   ],
   "cell_type": "markdown",
   "metadata": {}
  },
  {
   "cell_type": "code",
   "execution_count": 6,
   "metadata": {},
   "outputs": [
    {
     "output_type": "stream",
     "name": "stdout",
     "text": [
      "The data has 525461 records, 8 attributes\n"
     ]
    }
   ],
   "source": [
    "print(f\"The data has {df.shape[0]} records, {df.shape[1]} attributes\")"
   ]
  },
  {
   "source": [
    "### 6. Display a statistical summary for all the attributes."
   ],
   "cell_type": "markdown",
   "metadata": {}
  },
  {
   "cell_type": "code",
   "execution_count": 7,
   "metadata": {},
   "outputs": [
    {
     "output_type": "execute_result",
     "data": {
      "text/plain": [
       "            Quantity          Price    Customer ID\n",
       "count  525461.000000  525461.000000  417534.000000\n",
       "mean       10.337667       4.688834   15360.645478\n",
       "std       107.424110     146.126914    1680.811316\n",
       "min     -9600.000000  -53594.360000   12346.000000\n",
       "25%         1.000000       1.250000   13983.000000\n",
       "50%         3.000000       2.100000   15311.000000\n",
       "75%        10.000000       4.210000   16799.000000\n",
       "max     19152.000000   25111.090000   18287.000000"
      ],
      "text/html": "<div>\n<style scoped>\n    .dataframe tbody tr th:only-of-type {\n        vertical-align: middle;\n    }\n\n    .dataframe tbody tr th {\n        vertical-align: top;\n    }\n\n    .dataframe thead th {\n        text-align: right;\n    }\n</style>\n<table border=\"1\" class=\"dataframe\">\n  <thead>\n    <tr style=\"text-align: right;\">\n      <th></th>\n      <th>Quantity</th>\n      <th>Price</th>\n      <th>Customer ID</th>\n    </tr>\n  </thead>\n  <tbody>\n    <tr>\n      <th>count</th>\n      <td>525461.000000</td>\n      <td>525461.000000</td>\n      <td>417534.000000</td>\n    </tr>\n    <tr>\n      <th>mean</th>\n      <td>10.337667</td>\n      <td>4.688834</td>\n      <td>15360.645478</td>\n    </tr>\n    <tr>\n      <th>std</th>\n      <td>107.424110</td>\n      <td>146.126914</td>\n      <td>1680.811316</td>\n    </tr>\n    <tr>\n      <th>min</th>\n      <td>-9600.000000</td>\n      <td>-53594.360000</td>\n      <td>12346.000000</td>\n    </tr>\n    <tr>\n      <th>25%</th>\n      <td>1.000000</td>\n      <td>1.250000</td>\n      <td>13983.000000</td>\n    </tr>\n    <tr>\n      <th>50%</th>\n      <td>3.000000</td>\n      <td>2.100000</td>\n      <td>15311.000000</td>\n    </tr>\n    <tr>\n      <th>75%</th>\n      <td>10.000000</td>\n      <td>4.210000</td>\n      <td>16799.000000</td>\n    </tr>\n    <tr>\n      <th>max</th>\n      <td>19152.000000</td>\n      <td>25111.090000</td>\n      <td>18287.000000</td>\n    </tr>\n  </tbody>\n</table>\n</div>"
     },
     "metadata": {},
     "execution_count": 7
    }
   ],
   "source": [
    "df.describe()"
   ]
  },
  {
   "source": [
    "### 7. Check whether the selected dataset has any data quality issues and choose suitable strategies to deal with any issue (if exists). \n",
    "The dataset apparently doesn't have any issue but for making sure, the rows that don't contain inovice number are dropped"
   ],
   "cell_type": "markdown",
   "metadata": {}
  },
  {
   "cell_type": "code",
   "execution_count": 8,
   "metadata": {},
   "outputs": [],
   "source": [
    "# Dropping rows that doesn't contain invoice number\n",
    "df.dropna(inplace=True)\n",
    "df = df[~df['Invoice'].str.contains('C', na=False)]"
   ]
  },
  {
   "source": [
    "In this dataset, InvoiceNo means the orderIDNo, and the StockCode represents different kinds of products. In order to reorgnize this dataset, orders rearranged as rows and products being columns."
   ],
   "cell_type": "markdown",
   "metadata": {}
  },
  {
   "cell_type": "code",
   "execution_count": 9,
   "metadata": {},
   "outputs": [],
   "source": [
    "df = df.groupby(['Invoice','Description'])['Quantity'].sum().unstack().fillna(0)"
   ]
  },
  {
   "cell_type": "code",
   "execution_count": 10,
   "metadata": {},
   "outputs": [],
   "source": [
    "# replace all values of quantity >=1 by 1\n",
    "def encoding(x):\n",
    "    if x <= 0:\n",
    "        return 0\n",
    "    else:\n",
    "        return 1\n",
    "\n",
    "basket_final = df.applymap(encoding)"
   ]
  },
  {
   "cell_type": "code",
   "execution_count": 11,
   "metadata": {},
   "outputs": [
    {
     "output_type": "execute_result",
     "data": {
      "text/plain": [
       "Description    DOORMAT UNION JACK GUNS AND ROSES   3 STRIPEY MICE FELTCRAFT  \\\n",
       "Invoice                                                                       \n",
       "489434                                         0                          0   \n",
       "489435                                         0                          0   \n",
       "489436                                         0                          0   \n",
       "489437                                         0                          0   \n",
       "489438                                         0                          0   \n",
       "\n",
       "Description   4 PURPLE FLOCK DINNER CANDLES   ANIMAL STICKERS  \\\n",
       "Invoice                                                         \n",
       "489434                                    0                 0   \n",
       "489435                                    0                 0   \n",
       "489436                                    0                 0   \n",
       "489437                                    0                 0   \n",
       "489438                                    0                 0   \n",
       "\n",
       "Description   BLACK PIRATE TREASURE CHEST   BROWN  PIRATE TREASURE CHEST   \\\n",
       "Invoice                                                                     \n",
       "489434                                  0                               0   \n",
       "489435                                  0                               0   \n",
       "489436                                  0                               0   \n",
       "489437                                  0                               0   \n",
       "489438                                  0                               0   \n",
       "\n",
       "Description   Bank Charges   CAMPHOR WOOD PORTOBELLO MUSHROOM  \\\n",
       "Invoice                                                         \n",
       "489434                   0                                  0   \n",
       "489435                   0                                  0   \n",
       "489436                   0                                  0   \n",
       "489437                   0                                  0   \n",
       "489438                   0                                  0   \n",
       "\n",
       "Description   CHERRY BLOSSOM  DECORATIVE FLASK   FAIRY CAKE CANDLES  ...  \\\n",
       "Invoice                                                              ...   \n",
       "489434                                       0                    0  ...   \n",
       "489435                                       0                    0  ...   \n",
       "489436                                       0                    0  ...   \n",
       "489437                                       0                    0  ...   \n",
       "489438                                       0                    0  ...   \n",
       "\n",
       "Description  ZINC HEART LATTICE CHARGER LARGE  \\\n",
       "Invoice                                         \n",
       "489434                                      0   \n",
       "489435                                      0   \n",
       "489436                                      0   \n",
       "489437                                      0   \n",
       "489438                                      0   \n",
       "\n",
       "Description  ZINC HEART LATTICE CHARGER SMALL  \\\n",
       "Invoice                                         \n",
       "489434                                      0   \n",
       "489435                                      0   \n",
       "489436                                      0   \n",
       "489437                                      0   \n",
       "489438                                      0   \n",
       "\n",
       "Description  ZINC HEART LATTICE DOUBLE PLANTER  \\\n",
       "Invoice                                          \n",
       "489434                                       0   \n",
       "489435                                       0   \n",
       "489436                                       0   \n",
       "489437                                       0   \n",
       "489438                                       0   \n",
       "\n",
       "Description  ZINC HEART LATTICE PLANTER BOWL  \\\n",
       "Invoice                                        \n",
       "489434                                     0   \n",
       "489435                                     0   \n",
       "489436                                     0   \n",
       "489437                                     0   \n",
       "489438                                     0   \n",
       "\n",
       "Description  ZINC HEART LATTICE T-LIGHT HOLDER  ZINC HEART LATTICE TRAY OVAL   \\\n",
       "Invoice                                                                         \n",
       "489434                                       0                              0   \n",
       "489435                                       0                              0   \n",
       "489436                                       0                              0   \n",
       "489437                                       0                              0   \n",
       "489438                                       0                              0   \n",
       "\n",
       "Description  ZINC METAL HEART DECORATION  ZINC POLICE BOX LANTERN  \\\n",
       "Invoice                                                             \n",
       "489434                                 0                        0   \n",
       "489435                                 0                        0   \n",
       "489436                                 0                        0   \n",
       "489437                                 0                        0   \n",
       "489438                                 0                        0   \n",
       "\n",
       "Description  ZINC TOP  2 DOOR WOODEN SHELF   ZINC WILLIE WINKIE  CANDLE STICK  \n",
       "Invoice                                                                        \n",
       "489434                                    0                                 0  \n",
       "489435                                    0                                 0  \n",
       "489436                                    0                                 0  \n",
       "489437                                    0                                 0  \n",
       "489438                                    0                                 0  \n",
       "\n",
       "[5 rows x 4443 columns]"
      ],
      "text/html": "<div>\n<style scoped>\n    .dataframe tbody tr th:only-of-type {\n        vertical-align: middle;\n    }\n\n    .dataframe tbody tr th {\n        vertical-align: top;\n    }\n\n    .dataframe thead th {\n        text-align: right;\n    }\n</style>\n<table border=\"1\" class=\"dataframe\">\n  <thead>\n    <tr style=\"text-align: right;\">\n      <th>Description</th>\n      <th>DOORMAT UNION JACK GUNS AND ROSES</th>\n      <th>3 STRIPEY MICE FELTCRAFT</th>\n      <th>4 PURPLE FLOCK DINNER CANDLES</th>\n      <th>ANIMAL STICKERS</th>\n      <th>BLACK PIRATE TREASURE CHEST</th>\n      <th>BROWN  PIRATE TREASURE CHEST</th>\n      <th>Bank Charges</th>\n      <th>CAMPHOR WOOD PORTOBELLO MUSHROOM</th>\n      <th>CHERRY BLOSSOM  DECORATIVE FLASK</th>\n      <th>FAIRY CAKE CANDLES</th>\n      <th>...</th>\n      <th>ZINC HEART LATTICE CHARGER LARGE</th>\n      <th>ZINC HEART LATTICE CHARGER SMALL</th>\n      <th>ZINC HEART LATTICE DOUBLE PLANTER</th>\n      <th>ZINC HEART LATTICE PLANTER BOWL</th>\n      <th>ZINC HEART LATTICE T-LIGHT HOLDER</th>\n      <th>ZINC HEART LATTICE TRAY OVAL</th>\n      <th>ZINC METAL HEART DECORATION</th>\n      <th>ZINC POLICE BOX LANTERN</th>\n      <th>ZINC TOP  2 DOOR WOODEN SHELF</th>\n      <th>ZINC WILLIE WINKIE  CANDLE STICK</th>\n    </tr>\n    <tr>\n      <th>Invoice</th>\n      <th></th>\n      <th></th>\n      <th></th>\n      <th></th>\n      <th></th>\n      <th></th>\n      <th></th>\n      <th></th>\n      <th></th>\n      <th></th>\n      <th></th>\n      <th></th>\n      <th></th>\n      <th></th>\n      <th></th>\n      <th></th>\n      <th></th>\n      <th></th>\n      <th></th>\n      <th></th>\n      <th></th>\n    </tr>\n  </thead>\n  <tbody>\n    <tr>\n      <th>489434</th>\n      <td>0</td>\n      <td>0</td>\n      <td>0</td>\n      <td>0</td>\n      <td>0</td>\n      <td>0</td>\n      <td>0</td>\n      <td>0</td>\n      <td>0</td>\n      <td>0</td>\n      <td>...</td>\n      <td>0</td>\n      <td>0</td>\n      <td>0</td>\n      <td>0</td>\n      <td>0</td>\n      <td>0</td>\n      <td>0</td>\n      <td>0</td>\n      <td>0</td>\n      <td>0</td>\n    </tr>\n    <tr>\n      <th>489435</th>\n      <td>0</td>\n      <td>0</td>\n      <td>0</td>\n      <td>0</td>\n      <td>0</td>\n      <td>0</td>\n      <td>0</td>\n      <td>0</td>\n      <td>0</td>\n      <td>0</td>\n      <td>...</td>\n      <td>0</td>\n      <td>0</td>\n      <td>0</td>\n      <td>0</td>\n      <td>0</td>\n      <td>0</td>\n      <td>0</td>\n      <td>0</td>\n      <td>0</td>\n      <td>0</td>\n    </tr>\n    <tr>\n      <th>489436</th>\n      <td>0</td>\n      <td>0</td>\n      <td>0</td>\n      <td>0</td>\n      <td>0</td>\n      <td>0</td>\n      <td>0</td>\n      <td>0</td>\n      <td>0</td>\n      <td>0</td>\n      <td>...</td>\n      <td>0</td>\n      <td>0</td>\n      <td>0</td>\n      <td>0</td>\n      <td>0</td>\n      <td>0</td>\n      <td>0</td>\n      <td>0</td>\n      <td>0</td>\n      <td>0</td>\n    </tr>\n    <tr>\n      <th>489437</th>\n      <td>0</td>\n      <td>0</td>\n      <td>0</td>\n      <td>0</td>\n      <td>0</td>\n      <td>0</td>\n      <td>0</td>\n      <td>0</td>\n      <td>0</td>\n      <td>0</td>\n      <td>...</td>\n      <td>0</td>\n      <td>0</td>\n      <td>0</td>\n      <td>0</td>\n      <td>0</td>\n      <td>0</td>\n      <td>0</td>\n      <td>0</td>\n      <td>0</td>\n      <td>0</td>\n    </tr>\n    <tr>\n      <th>489438</th>\n      <td>0</td>\n      <td>0</td>\n      <td>0</td>\n      <td>0</td>\n      <td>0</td>\n      <td>0</td>\n      <td>0</td>\n      <td>0</td>\n      <td>0</td>\n      <td>0</td>\n      <td>...</td>\n      <td>0</td>\n      <td>0</td>\n      <td>0</td>\n      <td>0</td>\n      <td>0</td>\n      <td>0</td>\n      <td>0</td>\n      <td>0</td>\n      <td>0</td>\n      <td>0</td>\n    </tr>\n  </tbody>\n</table>\n<p>5 rows × 4443 columns</p>\n</div>"
     },
     "metadata": {},
     "execution_count": 11
    }
   ],
   "source": [
    "# drop \"POSTAGE\" since it's not a real product.\n",
    "basket_final.drop('POSTAGE', inplace=True, axis=1)\n",
    "\n",
    "basket_final.head()"
   ]
  },
  {
   "source": [
    "### 8. Generate Rules using Apriori Algorithm \n"
   ],
   "cell_type": "markdown",
   "metadata": {}
  },
  {
   "cell_type": "code",
   "execution_count": 12,
   "metadata": {},
   "outputs": [],
   "source": [
    "## Apriori to select the most important itemsets\n",
    "frequent_itemsets = apriori(basket_final, min_support = 0.02, use_colnames = True)"
   ]
  },
  {
   "cell_type": "code",
   "execution_count": 13,
   "metadata": {},
   "outputs": [
    {
     "output_type": "execute_result",
     "data": {
      "text/plain": [
       "                             antecedents  \\\n",
       "29         (WOODEN FRAME ANTIQUE WHITE )   \n",
       "28   (WOODEN PICTURE FRAME WHITE FINISH)   \n",
       "25      (SWEETHEART CERAMIC TRINKET BOX)   \n",
       "24      (STRAWBERRY CERAMIC TRINKET BOX)   \n",
       "6    (HOT WATER BOTTLE TEA AND SYMPATHY)   \n",
       "7           (CHOCOLATE HOT WATER BOTTLE)   \n",
       "8                (HEART OF WICKER LARGE)   \n",
       "9                (HEART OF WICKER SMALL)   \n",
       "19          (LUNCH BAG SPACEBOY DESIGN )   \n",
       "18             (LUNCH BAG SUKI  DESIGN )   \n",
       "16            (LUNCH BAG PINK RETROSPOT)   \n",
       "17                (LUNCH BAG RED SPOTTY)   \n",
       "10            (LOVE BUILDING BLOCK WORD)   \n",
       "11            (HOME BUILDING BLOCK WORD)   \n",
       "1          (60 TEATIME FAIRY CAKE CASES)   \n",
       "0   (PACK OF 60 PINK PAISLEY CAKE CASES)   \n",
       "14             (LUNCH BAG  BLACK SKULL.)   \n",
       "15                (LUNCH BAG RED SPOTTY)   \n",
       "20    (PACK OF 72 RETRO SPOT CAKE CASES)   \n",
       "21  (PACK OF 60 PINK PAISLEY CAKE CASES)   \n",
       "3          (60 TEATIME FAIRY CAKE CASES)   \n",
       "2     (PACK OF 72 RETRO SPOT CAKE CASES)   \n",
       "22  (WHITE HANGING HEART T-LIGHT HOLDER)   \n",
       "23    (RED HANGING HEART T-LIGHT HOLDER)   \n",
       "26  (WHITE HANGING HEART T-LIGHT HOLDER)   \n",
       "27         (WOODEN FRAME ANTIQUE WHITE )   \n",
       "13            (HOME BUILDING BLOCK WORD)   \n",
       "12  (WHITE HANGING HEART T-LIGHT HOLDER)   \n",
       "5        (ASSORTED COLOUR BIRD ORNAMENT)   \n",
       "4   (WHITE HANGING HEART T-LIGHT HOLDER)   \n",
       "\n",
       "                             consequents  antecedent support  \\\n",
       "29   (WOODEN PICTURE FRAME WHITE FINISH)            0.052511   \n",
       "28         (WOODEN FRAME ANTIQUE WHITE )            0.042571   \n",
       "25      (STRAWBERRY CERAMIC TRINKET BOX)            0.042050   \n",
       "24      (SWEETHEART CERAMIC TRINKET BOX)            0.069477   \n",
       "6           (CHOCOLATE HOT WATER BOTTLE)            0.043768   \n",
       "7    (HOT WATER BOTTLE TEA AND SYMPATHY)            0.041686   \n",
       "8                (HEART OF WICKER SMALL)            0.051887   \n",
       "9                (HEART OF WICKER LARGE)            0.045485   \n",
       "19             (LUNCH BAG SUKI  DESIGN )            0.047307   \n",
       "18          (LUNCH BAG SPACEBOY DESIGN )            0.049649   \n",
       "16                (LUNCH BAG RED SPOTTY)            0.037991   \n",
       "17            (LUNCH BAG PINK RETROSPOT)            0.055061   \n",
       "10            (HOME BUILDING BLOCK WORD)            0.049388   \n",
       "11            (LOVE BUILDING BLOCK WORD)            0.061098   \n",
       "1   (PACK OF 60 PINK PAISLEY CAKE CASES)            0.059120   \n",
       "0          (60 TEATIME FAIRY CAKE CASES)            0.048296   \n",
       "14                (LUNCH BAG RED SPOTTY)            0.050638   \n",
       "15             (LUNCH BAG  BLACK SKULL.)            0.055061   \n",
       "20  (PACK OF 60 PINK PAISLEY CAKE CASES)            0.060370   \n",
       "21    (PACK OF 72 RETRO SPOT CAKE CASES)            0.048296   \n",
       "3     (PACK OF 72 RETRO SPOT CAKE CASES)            0.059120   \n",
       "2          (60 TEATIME FAIRY CAKE CASES)            0.060370   \n",
       "22    (RED HANGING HEART T-LIGHT HOLDER)            0.157221   \n",
       "23  (WHITE HANGING HEART T-LIGHT HOLDER)            0.051730   \n",
       "26         (WOODEN FRAME ANTIQUE WHITE )            0.157221   \n",
       "27  (WHITE HANGING HEART T-LIGHT HOLDER)            0.052511   \n",
       "13  (WHITE HANGING HEART T-LIGHT HOLDER)            0.061098   \n",
       "12            (HOME BUILDING BLOCK WORD)            0.157221   \n",
       "5   (WHITE HANGING HEART T-LIGHT HOLDER)            0.069373   \n",
       "4        (ASSORTED COLOUR BIRD ORNAMENT)            0.157221   \n",
       "\n",
       "    consequent support   support  confidence       lift  leverage  conviction  \n",
       "29            0.042571  0.028832    0.549058  12.897504  0.026596    2.123178  \n",
       "28            0.052511  0.028832    0.677262  12.897504  0.026596    2.935780  \n",
       "25            0.069477  0.032371    0.769802  11.079959  0.029449    4.042272  \n",
       "24            0.042050  0.032371    0.465918  11.079959  0.029449    1.793636  \n",
       "6             0.041686  0.020088    0.458977  11.010301  0.018264    1.771301  \n",
       "7             0.043768  0.020088    0.481898  11.010301  0.018264    1.845643  \n",
       "8             0.045485  0.025553    0.492477  10.827178  0.023193    1.880734  \n",
       "9             0.051887  0.025553    0.561785  10.827178  0.023193    2.163580  \n",
       "19            0.049649  0.023627    0.499450  10.059676  0.021279    1.898614  \n",
       "18            0.047307  0.023627    0.475891  10.059676  0.021279    1.817739  \n",
       "16            0.055061  0.020505    0.539726   9.802302  0.018413    2.052992  \n",
       "17            0.037991  0.020505    0.372401   9.802302  0.018413    1.532839  \n",
       "10            0.061098  0.027166    0.550053   9.002779  0.024149    2.086693  \n",
       "11            0.049388  0.027166    0.444634   9.002779  0.024149    1.711684  \n",
       "1             0.048296  0.024356    0.411972   8.530214  0.021501    1.618467  \n",
       "0             0.059120  0.024356    0.504310   8.530214  0.021501    1.898122  \n",
       "14            0.055061  0.020973    0.414183   7.522236  0.018185    1.613027  \n",
       "15            0.050638  0.020973    0.380907   7.522236  0.018185    1.533474  \n",
       "20            0.048296  0.021285    0.352586   7.300586  0.018370    1.470009  \n",
       "21            0.060370  0.021285    0.440733   7.300586  0.018370    1.680110  \n",
       "3             0.060370  0.024876    0.420775   6.969987  0.021307    1.622219  \n",
       "2             0.059120  0.024876    0.412069   6.969987  0.021307    1.600323  \n",
       "22            0.051730  0.037575    0.238994   4.619984  0.029442    1.246073  \n",
       "23            0.157221  0.037575    0.726358   4.619984  0.029442    3.079862  \n",
       "26            0.052511  0.023003    0.146309   2.786254  0.014747    1.109874  \n",
       "27            0.157221  0.023003    0.438057   2.786254  0.014747    1.499760  \n",
       "13            0.157221  0.020349    0.333049   2.118353  0.010743    1.263630  \n",
       "12            0.061098  0.020349    0.129427   2.118353  0.010743    1.078488  \n",
       "5             0.157221  0.020297    0.292573   1.860905  0.009390    1.191330  \n",
       "4             0.069373  0.020297    0.129096   1.860905  0.009390    1.068576  "
      ],
      "text/html": "<div>\n<style scoped>\n    .dataframe tbody tr th:only-of-type {\n        vertical-align: middle;\n    }\n\n    .dataframe tbody tr th {\n        vertical-align: top;\n    }\n\n    .dataframe thead th {\n        text-align: right;\n    }\n</style>\n<table border=\"1\" class=\"dataframe\">\n  <thead>\n    <tr style=\"text-align: right;\">\n      <th></th>\n      <th>antecedents</th>\n      <th>consequents</th>\n      <th>antecedent support</th>\n      <th>consequent support</th>\n      <th>support</th>\n      <th>confidence</th>\n      <th>lift</th>\n      <th>leverage</th>\n      <th>conviction</th>\n    </tr>\n  </thead>\n  <tbody>\n    <tr>\n      <th>29</th>\n      <td>(WOODEN FRAME ANTIQUE WHITE )</td>\n      <td>(WOODEN PICTURE FRAME WHITE FINISH)</td>\n      <td>0.052511</td>\n      <td>0.042571</td>\n      <td>0.028832</td>\n      <td>0.549058</td>\n      <td>12.897504</td>\n      <td>0.026596</td>\n      <td>2.123178</td>\n    </tr>\n    <tr>\n      <th>28</th>\n      <td>(WOODEN PICTURE FRAME WHITE FINISH)</td>\n      <td>(WOODEN FRAME ANTIQUE WHITE )</td>\n      <td>0.042571</td>\n      <td>0.052511</td>\n      <td>0.028832</td>\n      <td>0.677262</td>\n      <td>12.897504</td>\n      <td>0.026596</td>\n      <td>2.935780</td>\n    </tr>\n    <tr>\n      <th>25</th>\n      <td>(SWEETHEART CERAMIC TRINKET BOX)</td>\n      <td>(STRAWBERRY CERAMIC TRINKET BOX)</td>\n      <td>0.042050</td>\n      <td>0.069477</td>\n      <td>0.032371</td>\n      <td>0.769802</td>\n      <td>11.079959</td>\n      <td>0.029449</td>\n      <td>4.042272</td>\n    </tr>\n    <tr>\n      <th>24</th>\n      <td>(STRAWBERRY CERAMIC TRINKET BOX)</td>\n      <td>(SWEETHEART CERAMIC TRINKET BOX)</td>\n      <td>0.069477</td>\n      <td>0.042050</td>\n      <td>0.032371</td>\n      <td>0.465918</td>\n      <td>11.079959</td>\n      <td>0.029449</td>\n      <td>1.793636</td>\n    </tr>\n    <tr>\n      <th>6</th>\n      <td>(HOT WATER BOTTLE TEA AND SYMPATHY)</td>\n      <td>(CHOCOLATE HOT WATER BOTTLE)</td>\n      <td>0.043768</td>\n      <td>0.041686</td>\n      <td>0.020088</td>\n      <td>0.458977</td>\n      <td>11.010301</td>\n      <td>0.018264</td>\n      <td>1.771301</td>\n    </tr>\n    <tr>\n      <th>7</th>\n      <td>(CHOCOLATE HOT WATER BOTTLE)</td>\n      <td>(HOT WATER BOTTLE TEA AND SYMPATHY)</td>\n      <td>0.041686</td>\n      <td>0.043768</td>\n      <td>0.020088</td>\n      <td>0.481898</td>\n      <td>11.010301</td>\n      <td>0.018264</td>\n      <td>1.845643</td>\n    </tr>\n    <tr>\n      <th>8</th>\n      <td>(HEART OF WICKER LARGE)</td>\n      <td>(HEART OF WICKER SMALL)</td>\n      <td>0.051887</td>\n      <td>0.045485</td>\n      <td>0.025553</td>\n      <td>0.492477</td>\n      <td>10.827178</td>\n      <td>0.023193</td>\n      <td>1.880734</td>\n    </tr>\n    <tr>\n      <th>9</th>\n      <td>(HEART OF WICKER SMALL)</td>\n      <td>(HEART OF WICKER LARGE)</td>\n      <td>0.045485</td>\n      <td>0.051887</td>\n      <td>0.025553</td>\n      <td>0.561785</td>\n      <td>10.827178</td>\n      <td>0.023193</td>\n      <td>2.163580</td>\n    </tr>\n    <tr>\n      <th>19</th>\n      <td>(LUNCH BAG SPACEBOY DESIGN )</td>\n      <td>(LUNCH BAG SUKI  DESIGN )</td>\n      <td>0.047307</td>\n      <td>0.049649</td>\n      <td>0.023627</td>\n      <td>0.499450</td>\n      <td>10.059676</td>\n      <td>0.021279</td>\n      <td>1.898614</td>\n    </tr>\n    <tr>\n      <th>18</th>\n      <td>(LUNCH BAG SUKI  DESIGN )</td>\n      <td>(LUNCH BAG SPACEBOY DESIGN )</td>\n      <td>0.049649</td>\n      <td>0.047307</td>\n      <td>0.023627</td>\n      <td>0.475891</td>\n      <td>10.059676</td>\n      <td>0.021279</td>\n      <td>1.817739</td>\n    </tr>\n    <tr>\n      <th>16</th>\n      <td>(LUNCH BAG PINK RETROSPOT)</td>\n      <td>(LUNCH BAG RED SPOTTY)</td>\n      <td>0.037991</td>\n      <td>0.055061</td>\n      <td>0.020505</td>\n      <td>0.539726</td>\n      <td>9.802302</td>\n      <td>0.018413</td>\n      <td>2.052992</td>\n    </tr>\n    <tr>\n      <th>17</th>\n      <td>(LUNCH BAG RED SPOTTY)</td>\n      <td>(LUNCH BAG PINK RETROSPOT)</td>\n      <td>0.055061</td>\n      <td>0.037991</td>\n      <td>0.020505</td>\n      <td>0.372401</td>\n      <td>9.802302</td>\n      <td>0.018413</td>\n      <td>1.532839</td>\n    </tr>\n    <tr>\n      <th>10</th>\n      <td>(LOVE BUILDING BLOCK WORD)</td>\n      <td>(HOME BUILDING BLOCK WORD)</td>\n      <td>0.049388</td>\n      <td>0.061098</td>\n      <td>0.027166</td>\n      <td>0.550053</td>\n      <td>9.002779</td>\n      <td>0.024149</td>\n      <td>2.086693</td>\n    </tr>\n    <tr>\n      <th>11</th>\n      <td>(HOME BUILDING BLOCK WORD)</td>\n      <td>(LOVE BUILDING BLOCK WORD)</td>\n      <td>0.061098</td>\n      <td>0.049388</td>\n      <td>0.027166</td>\n      <td>0.444634</td>\n      <td>9.002779</td>\n      <td>0.024149</td>\n      <td>1.711684</td>\n    </tr>\n    <tr>\n      <th>1</th>\n      <td>(60 TEATIME FAIRY CAKE CASES)</td>\n      <td>(PACK OF 60 PINK PAISLEY CAKE CASES)</td>\n      <td>0.059120</td>\n      <td>0.048296</td>\n      <td>0.024356</td>\n      <td>0.411972</td>\n      <td>8.530214</td>\n      <td>0.021501</td>\n      <td>1.618467</td>\n    </tr>\n    <tr>\n      <th>0</th>\n      <td>(PACK OF 60 PINK PAISLEY CAKE CASES)</td>\n      <td>(60 TEATIME FAIRY CAKE CASES)</td>\n      <td>0.048296</td>\n      <td>0.059120</td>\n      <td>0.024356</td>\n      <td>0.504310</td>\n      <td>8.530214</td>\n      <td>0.021501</td>\n      <td>1.898122</td>\n    </tr>\n    <tr>\n      <th>14</th>\n      <td>(LUNCH BAG  BLACK SKULL.)</td>\n      <td>(LUNCH BAG RED SPOTTY)</td>\n      <td>0.050638</td>\n      <td>0.055061</td>\n      <td>0.020973</td>\n      <td>0.414183</td>\n      <td>7.522236</td>\n      <td>0.018185</td>\n      <td>1.613027</td>\n    </tr>\n    <tr>\n      <th>15</th>\n      <td>(LUNCH BAG RED SPOTTY)</td>\n      <td>(LUNCH BAG  BLACK SKULL.)</td>\n      <td>0.055061</td>\n      <td>0.050638</td>\n      <td>0.020973</td>\n      <td>0.380907</td>\n      <td>7.522236</td>\n      <td>0.018185</td>\n      <td>1.533474</td>\n    </tr>\n    <tr>\n      <th>20</th>\n      <td>(PACK OF 72 RETRO SPOT CAKE CASES)</td>\n      <td>(PACK OF 60 PINK PAISLEY CAKE CASES)</td>\n      <td>0.060370</td>\n      <td>0.048296</td>\n      <td>0.021285</td>\n      <td>0.352586</td>\n      <td>7.300586</td>\n      <td>0.018370</td>\n      <td>1.470009</td>\n    </tr>\n    <tr>\n      <th>21</th>\n      <td>(PACK OF 60 PINK PAISLEY CAKE CASES)</td>\n      <td>(PACK OF 72 RETRO SPOT CAKE CASES)</td>\n      <td>0.048296</td>\n      <td>0.060370</td>\n      <td>0.021285</td>\n      <td>0.440733</td>\n      <td>7.300586</td>\n      <td>0.018370</td>\n      <td>1.680110</td>\n    </tr>\n    <tr>\n      <th>3</th>\n      <td>(60 TEATIME FAIRY CAKE CASES)</td>\n      <td>(PACK OF 72 RETRO SPOT CAKE CASES)</td>\n      <td>0.059120</td>\n      <td>0.060370</td>\n      <td>0.024876</td>\n      <td>0.420775</td>\n      <td>6.969987</td>\n      <td>0.021307</td>\n      <td>1.622219</td>\n    </tr>\n    <tr>\n      <th>2</th>\n      <td>(PACK OF 72 RETRO SPOT CAKE CASES)</td>\n      <td>(60 TEATIME FAIRY CAKE CASES)</td>\n      <td>0.060370</td>\n      <td>0.059120</td>\n      <td>0.024876</td>\n      <td>0.412069</td>\n      <td>6.969987</td>\n      <td>0.021307</td>\n      <td>1.600323</td>\n    </tr>\n    <tr>\n      <th>22</th>\n      <td>(WHITE HANGING HEART T-LIGHT HOLDER)</td>\n      <td>(RED HANGING HEART T-LIGHT HOLDER)</td>\n      <td>0.157221</td>\n      <td>0.051730</td>\n      <td>0.037575</td>\n      <td>0.238994</td>\n      <td>4.619984</td>\n      <td>0.029442</td>\n      <td>1.246073</td>\n    </tr>\n    <tr>\n      <th>23</th>\n      <td>(RED HANGING HEART T-LIGHT HOLDER)</td>\n      <td>(WHITE HANGING HEART T-LIGHT HOLDER)</td>\n      <td>0.051730</td>\n      <td>0.157221</td>\n      <td>0.037575</td>\n      <td>0.726358</td>\n      <td>4.619984</td>\n      <td>0.029442</td>\n      <td>3.079862</td>\n    </tr>\n    <tr>\n      <th>26</th>\n      <td>(WHITE HANGING HEART T-LIGHT HOLDER)</td>\n      <td>(WOODEN FRAME ANTIQUE WHITE )</td>\n      <td>0.157221</td>\n      <td>0.052511</td>\n      <td>0.023003</td>\n      <td>0.146309</td>\n      <td>2.786254</td>\n      <td>0.014747</td>\n      <td>1.109874</td>\n    </tr>\n    <tr>\n      <th>27</th>\n      <td>(WOODEN FRAME ANTIQUE WHITE )</td>\n      <td>(WHITE HANGING HEART T-LIGHT HOLDER)</td>\n      <td>0.052511</td>\n      <td>0.157221</td>\n      <td>0.023003</td>\n      <td>0.438057</td>\n      <td>2.786254</td>\n      <td>0.014747</td>\n      <td>1.499760</td>\n    </tr>\n    <tr>\n      <th>13</th>\n      <td>(HOME BUILDING BLOCK WORD)</td>\n      <td>(WHITE HANGING HEART T-LIGHT HOLDER)</td>\n      <td>0.061098</td>\n      <td>0.157221</td>\n      <td>0.020349</td>\n      <td>0.333049</td>\n      <td>2.118353</td>\n      <td>0.010743</td>\n      <td>1.263630</td>\n    </tr>\n    <tr>\n      <th>12</th>\n      <td>(WHITE HANGING HEART T-LIGHT HOLDER)</td>\n      <td>(HOME BUILDING BLOCK WORD)</td>\n      <td>0.157221</td>\n      <td>0.061098</td>\n      <td>0.020349</td>\n      <td>0.129427</td>\n      <td>2.118353</td>\n      <td>0.010743</td>\n      <td>1.078488</td>\n    </tr>\n    <tr>\n      <th>5</th>\n      <td>(ASSORTED COLOUR BIRD ORNAMENT)</td>\n      <td>(WHITE HANGING HEART T-LIGHT HOLDER)</td>\n      <td>0.069373</td>\n      <td>0.157221</td>\n      <td>0.020297</td>\n      <td>0.292573</td>\n      <td>1.860905</td>\n      <td>0.009390</td>\n      <td>1.191330</td>\n    </tr>\n    <tr>\n      <th>4</th>\n      <td>(WHITE HANGING HEART T-LIGHT HOLDER)</td>\n      <td>(ASSORTED COLOUR BIRD ORNAMENT)</td>\n      <td>0.157221</td>\n      <td>0.069373</td>\n      <td>0.020297</td>\n      <td>0.129096</td>\n      <td>1.860905</td>\n      <td>0.009390</td>\n      <td>1.068576</td>\n    </tr>\n  </tbody>\n</table>\n</div>"
     },
     "metadata": {},
     "execution_count": 13
    }
   ],
   "source": [
    "rules = association_rules(frequent_itemsets, metric = \"lift\", min_threshold = 1)\n",
    "rules.sort_values('lift',ascending = False)"
   ]
  },
  {
   "cell_type": "code",
   "execution_count": 14,
   "metadata": {},
   "outputs": [
    {
     "output_type": "execute_result",
     "data": {
      "text/plain": [
       "                            antecedents                           consequents  \\\n",
       "0  (PACK OF 60 PINK PAISLEY CAKE CASES)         (60 TEATIME FAIRY CAKE CASES)   \n",
       "1         (60 TEATIME FAIRY CAKE CASES)  (PACK OF 60 PINK PAISLEY CAKE CASES)   \n",
       "2    (PACK OF 72 RETRO SPOT CAKE CASES)         (60 TEATIME FAIRY CAKE CASES)   \n",
       "3         (60 TEATIME FAIRY CAKE CASES)    (PACK OF 72 RETRO SPOT CAKE CASES)   \n",
       "4  (WHITE HANGING HEART T-LIGHT HOLDER)       (ASSORTED COLOUR BIRD ORNAMENT)   \n",
       "\n",
       "   antecedent support  consequent support   support  confidence      lift  \\\n",
       "0            0.048296            0.059120  0.024356    0.504310  8.530214   \n",
       "1            0.059120            0.048296  0.024356    0.411972  8.530214   \n",
       "2            0.060370            0.059120  0.024876    0.412069  6.969987   \n",
       "3            0.059120            0.060370  0.024876    0.420775  6.969987   \n",
       "4            0.157221            0.069373  0.020297    0.129096  1.860905   \n",
       "\n",
       "   leverage  conviction  \n",
       "0  0.021501    1.898122  \n",
       "1  0.021501    1.618467  \n",
       "2  0.021307    1.600323  \n",
       "3  0.021307    1.622219  \n",
       "4  0.009390    1.068576  "
      ],
      "text/html": "<div>\n<style scoped>\n    .dataframe tbody tr th:only-of-type {\n        vertical-align: middle;\n    }\n\n    .dataframe tbody tr th {\n        vertical-align: top;\n    }\n\n    .dataframe thead th {\n        text-align: right;\n    }\n</style>\n<table border=\"1\" class=\"dataframe\">\n  <thead>\n    <tr style=\"text-align: right;\">\n      <th></th>\n      <th>antecedents</th>\n      <th>consequents</th>\n      <th>antecedent support</th>\n      <th>consequent support</th>\n      <th>support</th>\n      <th>confidence</th>\n      <th>lift</th>\n      <th>leverage</th>\n      <th>conviction</th>\n    </tr>\n  </thead>\n  <tbody>\n    <tr>\n      <th>0</th>\n      <td>(PACK OF 60 PINK PAISLEY CAKE CASES)</td>\n      <td>(60 TEATIME FAIRY CAKE CASES)</td>\n      <td>0.048296</td>\n      <td>0.059120</td>\n      <td>0.024356</td>\n      <td>0.504310</td>\n      <td>8.530214</td>\n      <td>0.021501</td>\n      <td>1.898122</td>\n    </tr>\n    <tr>\n      <th>1</th>\n      <td>(60 TEATIME FAIRY CAKE CASES)</td>\n      <td>(PACK OF 60 PINK PAISLEY CAKE CASES)</td>\n      <td>0.059120</td>\n      <td>0.048296</td>\n      <td>0.024356</td>\n      <td>0.411972</td>\n      <td>8.530214</td>\n      <td>0.021501</td>\n      <td>1.618467</td>\n    </tr>\n    <tr>\n      <th>2</th>\n      <td>(PACK OF 72 RETRO SPOT CAKE CASES)</td>\n      <td>(60 TEATIME FAIRY CAKE CASES)</td>\n      <td>0.060370</td>\n      <td>0.059120</td>\n      <td>0.024876</td>\n      <td>0.412069</td>\n      <td>6.969987</td>\n      <td>0.021307</td>\n      <td>1.600323</td>\n    </tr>\n    <tr>\n      <th>3</th>\n      <td>(60 TEATIME FAIRY CAKE CASES)</td>\n      <td>(PACK OF 72 RETRO SPOT CAKE CASES)</td>\n      <td>0.059120</td>\n      <td>0.060370</td>\n      <td>0.024876</td>\n      <td>0.420775</td>\n      <td>6.969987</td>\n      <td>0.021307</td>\n      <td>1.622219</td>\n    </tr>\n    <tr>\n      <th>4</th>\n      <td>(WHITE HANGING HEART T-LIGHT HOLDER)</td>\n      <td>(ASSORTED COLOUR BIRD ORNAMENT)</td>\n      <td>0.157221</td>\n      <td>0.069373</td>\n      <td>0.020297</td>\n      <td>0.129096</td>\n      <td>1.860905</td>\n      <td>0.009390</td>\n      <td>1.068576</td>\n    </tr>\n  </tbody>\n</table>\n</div>"
     },
     "metadata": {},
     "execution_count": 14
    }
   ],
   "source": [
    "rules.head()"
   ]
  },
  {
   "source": [
    "From the result above, I observe that:\n",
    "\n",
    "1. **PACK OF 60 PINK PAISLEY CAKE CASES** and **60 TEATIME FAIRY CAKE CASES** are purchased together.\n",
    "2. **PACK OF 72 RETRO SPOT CAKE CASES** and **60 TEATIME FAIRY CAKE CASES** are purchased together.\n",
    "3. **WHITE HANGING HEART T-LIGHT HOLDER** and **ASSORTED COLOUR BIRD ORNAMENT** are purchased together.\n"
   ],
   "cell_type": "markdown",
   "metadata": {}
  }
 ]
}