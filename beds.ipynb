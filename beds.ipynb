{
 "metadata": {
  "language_info": {
   "codemirror_mode": {
    "name": "ipython",
    "version": 3
   },
   "file_extension": ".py",
   "mimetype": "text/x-python",
   "name": "python",
   "nbconvert_exporter": "python",
   "pygments_lexer": "ipython3",
   "version": "3.9.0-final"
  },
  "orig_nbformat": 2,
  "kernelspec": {
   "name": "python3",
   "display_name": "Python 3.9.0 64-bit",
   "metadata": {
    "interpreter": {
     "hash": "f9a665eed82786d1db64405b5cfd0f8037f4571b806793cb1072a84e044fc7ff"
    }
   }
  }
 },
 "nbformat": 4,
 "nbformat_minor": 2,
 "cells": [
  {
   "cell_type": "code",
   "execution_count": 21,
   "metadata": {},
   "outputs": [],
   "source": [
    "import numpy as np #numpy for arithmatic operation\n",
    "import pandas as pd # pandas for dataset operations\n",
    "import matplotlib.pyplot as plt # visualization library"
   ]
  },
  {
   "cell_type": "code",
   "execution_count": 22,
   "metadata": {},
   "outputs": [],
   "source": [
    "beds_df = pd.read_csv('dataset/hospital_beds_USA_v1.csv')\n",
    "ab_nyc_df = pd.read_csv('dataset/AB_NYC_2019.csv')\n",
    "mta_df = pd.read_csv('dataset/mta_1712.csv')"
   ]
  },
  {
   "cell_type": "code",
   "execution_count": 23,
   "metadata": {},
   "outputs": [
    {
     "output_type": "execute_result",
     "data": {
      "text/plain": [
       "  country state          county        lat         lng   type  measure  \\\n",
       "0      US    AK  aleutians east  63.588753 -154.493062    ICU  1000HAB   \n",
       "1      US    AK  aleutians west  63.588753 -154.493062    ICU  1000HAB   \n",
       "2      US    AK       anchorage  63.588753 -154.493062  ACUTE  1000HAB   \n",
       "3      US    AK       anchorage  63.588753 -154.493062    ICU  1000HAB   \n",
       "4      US    AK       anchorage  63.588753 -154.493062  OTHER  1000HAB   \n",
       "\n",
       "       beds  population  year  source  \\\n",
       "0  0.000000        3338  2019     khn   \n",
       "1  0.000000        5784  2019     khn   \n",
       "2  2.182916      298225  2018  arcgis   \n",
       "3  0.244782      298225  2019     khn   \n",
       "4  0.191131      298225  2019  arcgis   \n",
       "\n",
       "                                          source_url  \n",
       "0  https://khn.org/news/as-coronavirus-spreads-wi...  \n",
       "1  https://khn.org/news/as-coronavirus-spreads-wi...  \n",
       "2  https://services1.arcgis.com/Hp6G80Pky0om7QvQ/...  \n",
       "3  https://khn.org/news/as-coronavirus-spreads-wi...  \n",
       "4  https://services1.arcgis.com/Hp6G80Pky0om7QvQ/...  "
      ],
      "text/html": "<div>\n<style scoped>\n    .dataframe tbody tr th:only-of-type {\n        vertical-align: middle;\n    }\n\n    .dataframe tbody tr th {\n        vertical-align: top;\n    }\n\n    .dataframe thead th {\n        text-align: right;\n    }\n</style>\n<table border=\"1\" class=\"dataframe\">\n  <thead>\n    <tr style=\"text-align: right;\">\n      <th></th>\n      <th>country</th>\n      <th>state</th>\n      <th>county</th>\n      <th>lat</th>\n      <th>lng</th>\n      <th>type</th>\n      <th>measure</th>\n      <th>beds</th>\n      <th>population</th>\n      <th>year</th>\n      <th>source</th>\n      <th>source_url</th>\n    </tr>\n  </thead>\n  <tbody>\n    <tr>\n      <th>0</th>\n      <td>US</td>\n      <td>AK</td>\n      <td>aleutians east</td>\n      <td>63.588753</td>\n      <td>-154.493062</td>\n      <td>ICU</td>\n      <td>1000HAB</td>\n      <td>0.000000</td>\n      <td>3338</td>\n      <td>2019</td>\n      <td>khn</td>\n      <td>https://khn.org/news/as-coronavirus-spreads-wi...</td>\n    </tr>\n    <tr>\n      <th>1</th>\n      <td>US</td>\n      <td>AK</td>\n      <td>aleutians west</td>\n      <td>63.588753</td>\n      <td>-154.493062</td>\n      <td>ICU</td>\n      <td>1000HAB</td>\n      <td>0.000000</td>\n      <td>5784</td>\n      <td>2019</td>\n      <td>khn</td>\n      <td>https://khn.org/news/as-coronavirus-spreads-wi...</td>\n    </tr>\n    <tr>\n      <th>2</th>\n      <td>US</td>\n      <td>AK</td>\n      <td>anchorage</td>\n      <td>63.588753</td>\n      <td>-154.493062</td>\n      <td>ACUTE</td>\n      <td>1000HAB</td>\n      <td>2.182916</td>\n      <td>298225</td>\n      <td>2018</td>\n      <td>arcgis</td>\n      <td>https://services1.arcgis.com/Hp6G80Pky0om7QvQ/...</td>\n    </tr>\n    <tr>\n      <th>3</th>\n      <td>US</td>\n      <td>AK</td>\n      <td>anchorage</td>\n      <td>63.588753</td>\n      <td>-154.493062</td>\n      <td>ICU</td>\n      <td>1000HAB</td>\n      <td>0.244782</td>\n      <td>298225</td>\n      <td>2019</td>\n      <td>khn</td>\n      <td>https://khn.org/news/as-coronavirus-spreads-wi...</td>\n    </tr>\n    <tr>\n      <th>4</th>\n      <td>US</td>\n      <td>AK</td>\n      <td>anchorage</td>\n      <td>63.588753</td>\n      <td>-154.493062</td>\n      <td>OTHER</td>\n      <td>1000HAB</td>\n      <td>0.191131</td>\n      <td>298225</td>\n      <td>2019</td>\n      <td>arcgis</td>\n      <td>https://services1.arcgis.com/Hp6G80Pky0om7QvQ/...</td>\n    </tr>\n  </tbody>\n</table>\n</div>"
     },
     "metadata": {},
     "execution_count": 23
    }
   ],
   "source": [
    "beds_df.dropna(subset=['lat', 'lng'])\n",
    "beds_df.head()\n"
   ]
  },
  {
   "cell_type": "code",
   "execution_count": 24,
   "metadata": {},
   "outputs": [
    {
     "output_type": "execute_result",
     "data": {
      "text/plain": [
       "     id                                              name  host_id  \\\n",
       "0  2539                Clean & quiet apt home by the park     2787   \n",
       "1  2595                             Skylit Midtown Castle     2845   \n",
       "2  3647               THE VILLAGE OF HARLEM....NEW YORK !     4632   \n",
       "3  3831                   Cozy Entire Floor of Brownstone     4869   \n",
       "4  5022  Entire Apt: Spacious Studio/Loft by central park     7192   \n",
       "\n",
       "     host_name neighbourhood_group neighbourhood  latitude  longitude  \\\n",
       "0         John            Brooklyn    Kensington  40.64749  -73.97237   \n",
       "1     Jennifer           Manhattan       Midtown  40.75362  -73.98377   \n",
       "2    Elisabeth           Manhattan        Harlem  40.80902  -73.94190   \n",
       "3  LisaRoxanne            Brooklyn  Clinton Hill  40.68514  -73.95976   \n",
       "4        Laura           Manhattan   East Harlem  40.79851  -73.94399   \n",
       "\n",
       "         room_type  price  minimum_nights  number_of_reviews last_review  \\\n",
       "0     Private room    149               1                  9  2018-10-19   \n",
       "1  Entire home/apt    225               1                 45  2019-05-21   \n",
       "2     Private room    150               3                  0         NaN   \n",
       "3  Entire home/apt     89               1                270  2019-07-05   \n",
       "4  Entire home/apt     80              10                  9  2018-11-19   \n",
       "\n",
       "   reviews_per_month  calculated_host_listings_count  availability_365  \n",
       "0               0.21                               6               365  \n",
       "1               0.38                               2               355  \n",
       "2                NaN                               1               365  \n",
       "3               4.64                               1               194  \n",
       "4               0.10                               1                 0  "
      ],
      "text/html": "<div>\n<style scoped>\n    .dataframe tbody tr th:only-of-type {\n        vertical-align: middle;\n    }\n\n    .dataframe tbody tr th {\n        vertical-align: top;\n    }\n\n    .dataframe thead th {\n        text-align: right;\n    }\n</style>\n<table border=\"1\" class=\"dataframe\">\n  <thead>\n    <tr style=\"text-align: right;\">\n      <th></th>\n      <th>id</th>\n      <th>name</th>\n      <th>host_id</th>\n      <th>host_name</th>\n      <th>neighbourhood_group</th>\n      <th>neighbourhood</th>\n      <th>latitude</th>\n      <th>longitude</th>\n      <th>room_type</th>\n      <th>price</th>\n      <th>minimum_nights</th>\n      <th>number_of_reviews</th>\n      <th>last_review</th>\n      <th>reviews_per_month</th>\n      <th>calculated_host_listings_count</th>\n      <th>availability_365</th>\n    </tr>\n  </thead>\n  <tbody>\n    <tr>\n      <th>0</th>\n      <td>2539</td>\n      <td>Clean &amp; quiet apt home by the park</td>\n      <td>2787</td>\n      <td>John</td>\n      <td>Brooklyn</td>\n      <td>Kensington</td>\n      <td>40.64749</td>\n      <td>-73.97237</td>\n      <td>Private room</td>\n      <td>149</td>\n      <td>1</td>\n      <td>9</td>\n      <td>2018-10-19</td>\n      <td>0.21</td>\n      <td>6</td>\n      <td>365</td>\n    </tr>\n    <tr>\n      <th>1</th>\n      <td>2595</td>\n      <td>Skylit Midtown Castle</td>\n      <td>2845</td>\n      <td>Jennifer</td>\n      <td>Manhattan</td>\n      <td>Midtown</td>\n      <td>40.75362</td>\n      <td>-73.98377</td>\n      <td>Entire home/apt</td>\n      <td>225</td>\n      <td>1</td>\n      <td>45</td>\n      <td>2019-05-21</td>\n      <td>0.38</td>\n      <td>2</td>\n      <td>355</td>\n    </tr>\n    <tr>\n      <th>2</th>\n      <td>3647</td>\n      <td>THE VILLAGE OF HARLEM....NEW YORK !</td>\n      <td>4632</td>\n      <td>Elisabeth</td>\n      <td>Manhattan</td>\n      <td>Harlem</td>\n      <td>40.80902</td>\n      <td>-73.94190</td>\n      <td>Private room</td>\n      <td>150</td>\n      <td>3</td>\n      <td>0</td>\n      <td>NaN</td>\n      <td>NaN</td>\n      <td>1</td>\n      <td>365</td>\n    </tr>\n    <tr>\n      <th>3</th>\n      <td>3831</td>\n      <td>Cozy Entire Floor of Brownstone</td>\n      <td>4869</td>\n      <td>LisaRoxanne</td>\n      <td>Brooklyn</td>\n      <td>Clinton Hill</td>\n      <td>40.68514</td>\n      <td>-73.95976</td>\n      <td>Entire home/apt</td>\n      <td>89</td>\n      <td>1</td>\n      <td>270</td>\n      <td>2019-07-05</td>\n      <td>4.64</td>\n      <td>1</td>\n      <td>194</td>\n    </tr>\n    <tr>\n      <th>4</th>\n      <td>5022</td>\n      <td>Entire Apt: Spacious Studio/Loft by central park</td>\n      <td>7192</td>\n      <td>Laura</td>\n      <td>Manhattan</td>\n      <td>East Harlem</td>\n      <td>40.79851</td>\n      <td>-73.94399</td>\n      <td>Entire home/apt</td>\n      <td>80</td>\n      <td>10</td>\n      <td>9</td>\n      <td>2018-11-19</td>\n      <td>0.10</td>\n      <td>1</td>\n      <td>0</td>\n    </tr>\n  </tbody>\n</table>\n</div>"
     },
     "metadata": {},
     "execution_count": 24
    }
   ],
   "source": [
    "ab_nyc_df.dropna(subset=['latitude', 'longitude'])\n",
    "\n",
    "ab_nyc_df.head()"
   ]
  },
  {
   "cell_type": "code",
   "execution_count": null,
   "metadata": {},
   "outputs": [],
   "source": [
    "mta_df.head()\n"
   ]
  },
  {
   "cell_type": "code",
   "execution_count": 25,
   "metadata": {},
   "outputs": [
    {
     "output_type": "error",
     "ename": "SyntaxError",
     "evalue": "invalid syntax (<ipython-input-25-6c12e79c18e7>, line 1)",
     "traceback": [
      "\u001b[1;36m  File \u001b[1;32m\"<ipython-input-25-6c12e79c18e7>\"\u001b[1;36m, line \u001b[1;32m1\u001b[0m\n\u001b[1;33m    ef nearest(row, geom_union, df1, df2, geom1_col='geometry', geom2_col='geometry', src_column=None):\u001b[0m\n\u001b[1;37m       ^\u001b[0m\n\u001b[1;31mSyntaxError\u001b[0m\u001b[1;31m:\u001b[0m invalid syntax\n"
     ]
    }
   ],
   "source": [
    "import geopandas as gpd\n",
    "from shapely.geometry import Point\n",
    "from sklearn.neighbors import BallTree\n",
    "\n",
    "## Create the two GeoDataFrame to replicate your dataset\n",
    "appart = gpd.GeoDataFrame({\n",
    "        'geometry': Point(a, b),\n",
    "        'x': a,\n",
    "        'y': b,\n",
    "    } for a, b in zip(np.random.rand(100000), np.random.rand(100000))\n",
    "])\n",
    "\n",
    "pharma = gpd.GeoDataFrame([{\n",
    "        'geometry': Point(a, b),\n",
    "        'x': a,\n",
    "        'y': b,\n",
    "    } for a, b in zip(np.random.rand(3000), np.random.rand(3000))\n",
    "])\n",
    "\n",
    "# Create a BallTree \n",
    "tree = BallTree(pharma[['x', 'y']].values, leaf_size=2)\n",
    "\n",
    "# Query the BallTree on each feature from 'appart' to find the distance\n",
    "# to the nearest 'pharma' and its id\n",
    "appart['distance_nearest'], appart['id_nearest'] = tree.query(\n",
    "    appart[['x', 'y']].values, # The input array for the query\n",
    "    k=1, # The number of nearest neighbors\n",
    ")\n"
   ]
  }
 ]
}